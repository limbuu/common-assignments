{
 "cells": [
  {
   "cell_type": "markdown",
   "metadata": {
    "deletable": false,
    "editable": false,
    "nbgrader": {
     "checksum": "72c77f666b4bef4d2a6e653a9938ca8f",
     "grade": false,
     "grade_id": "cell-8adce71df193e759",
     "locked": true,
     "schema_version": 1,
     "solution": false
    }
   },
   "source": [
    "#### Exercise 2 (Lists)\n",
    "Find the sum of the smallest 10 numbers of List L Indexing, Sorted and sum function could be useful"
   ]
  },
  {
   "cell_type": "code",
   "execution_count": null,
   "metadata": {
    "deletable": false,
    "nbgrader": {
     "checksum": "99fe0982c5101e454b1f4e74bf021105",
     "grade": false,
     "grade_id": "cell-d22595cf41ad5ff3",
     "locked": false,
     "schema_version": 1,
     "solution": true
    }
   },
   "outputs": [],
   "source": [
    "L =[75, 28, 47, 51, 96, 76, 32, 57, 10, 10, 25, 62, 17,  9, 68, 65, -2,\n",
    "       54, 34, 41, 74, 83, 91, 59, -3, 88, 59, 91, 10, -9, 90, 46, 58, 25,\n",
    "       62, 32, 74,  1, 61, 43, 25, 62, -5, 49, 40, 44, 83, -5, 13, 35]\n",
    "\n",
    "# YOUR CODE HERE\n",
    "raise NotImplementedError()\n"
   ]
  },
  {
   "cell_type": "code",
   "execution_count": null,
   "metadata": {
    "deletable": false,
    "editable": false,
    "nbgrader": {
     "checksum": "c5cb650bc49be447068ffca1870d57cc",
     "grade": true,
     "grade_id": "cell-c9417b8946afbe0c",
     "locked": true,
     "points": 10,
     "schema_version": 1,
     "solution": false
    }
   },
   "outputs": [],
   "source": [
    "### HIDDEN TESTS HERE ####\n",
    "assert(ans==16)"
   ]
  },
  {
   "cell_type": "code",
   "execution_count": null,
   "metadata": {},
   "outputs": [],
   "source": []
  }
 ],
 "metadata": {
  "kernelspec": {
   "display_name": "Python 3",
   "language": "python",
   "name": "python3"
  },
  "language_info": {
   "codemirror_mode": {
    "name": "ipython",
    "version": 3
   },
   "file_extension": ".py",
   "mimetype": "text/x-python",
   "name": "python",
   "nbconvert_exporter": "python",
   "pygments_lexer": "ipython3",
   "version": "3.6.7"
  }
 },
 "nbformat": 4,
 "nbformat_minor": 2
}
