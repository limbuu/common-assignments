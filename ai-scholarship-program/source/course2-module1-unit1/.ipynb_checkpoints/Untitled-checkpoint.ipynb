{
 "cells": [
  {
   "cell_type": "markdown",
   "metadata": {
    "nbgrader": {
     "grade": false,
     "grade_id": "cell-8adce71df193e759",
     "locked": true,
     "schema_version": 1,
     "solution": false
    }
   },
   "source": [
    "#### Exercise 2 (Lists)\n",
    "Find the sum of the smallest 10 numbers of List L Indexing, Sorted and sum function could be useful"
   ]
  },
  {
   "cell_type": "code",
   "execution_count": 3,
   "metadata": {
    "nbgrader": {
     "grade": false,
     "grade_id": "cell-d22595cf41ad5ff3",
     "locked": false,
     "schema_version": 1,
     "solution": true
    }
   },
   "outputs": [],
   "source": [
    "L =[75, 28, 47, 51, 96, 76, 32, 57, 10, 10, 25, 62, 17,  9, 68, 65, -2,\n",
    "       54, 34, 41, 74, 83, 91, 59, -3, 88, 59, 91, 10, -9, 90, 46, 58, 25,\n",
    "       62, 32, 74,  1, 61, 43, 25, 62, -5, 49, 40, 44, 83, -5, 13, 35]\n",
    "\n",
    "### BEGIN SOLUTION\n",
    "ans = sum(sorted(L)[:10])\n",
    "### END SOLUTION\n"
   ]
  },
  {
   "cell_type": "code",
   "execution_count": 4,
   "metadata": {
    "nbgrader": {
     "grade": true,
     "grade_id": "cell-c9417b8946afbe0c",
     "locked": true,
     "points": 10,
     "schema_version": 1,
     "solution": false
    }
   },
   "outputs": [],
   "source": [
    "### HIDDEN TESTS HERE ####\n",
    "assert(ans==16)\n",
    "### BEGIN HIDDEN TESTS\n",
    "assert(ans==sum(sorted(L)[:10]) )\n",
    "### END HIDDEN TESTS"
   ]
  },
  {
   "cell_type": "code",
   "execution_count": null,
   "metadata": {},
   "outputs": [],
   "source": []
  }
 ],
 "metadata": {
  "celltoolbar": "Create Assignment",
  "kernelspec": {
   "display_name": "Python 3",
   "language": "python",
   "name": "python3"
  },
  "language_info": {
   "codemirror_mode": {
    "name": "ipython",
    "version": 3
   },
   "file_extension": ".py",
   "mimetype": "text/x-python",
   "name": "python",
   "nbconvert_exporter": "python",
   "pygments_lexer": "ipython3",
   "version": "3.6.7"
  }
 },
 "nbformat": 4,
 "nbformat_minor": 2
}
